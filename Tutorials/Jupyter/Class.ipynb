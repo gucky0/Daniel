{
 "cells": [
  {
   "cell_type": "code",
   "execution_count": 6,
   "source": [
    "class Blueprint:\r\n",
    "    def __init__(self):\r\n",
    "        pass\r\n",
    "obj = Blueprint() \r\n",
    "print(obj)\r\n",
    "\r\n",
    "obj2 = Blueprint() \r\n",
    "print(obj2)"
   ],
   "outputs": [
    {
     "output_type": "stream",
     "name": "stdout",
     "text": [
      "<__main__.Blueprint object at 0x000001CAF8970E20>\n",
      "<__main__.Blueprint object at 0x000001CAF8970880>\n"
     ]
    }
   ],
   "metadata": {}
  },
  {
   "cell_type": "code",
   "execution_count": 8,
   "source": [
    "class Leaderboard:\r\n",
    "    def __init__(self, name):\r\n",
    "        self.name = name\r\n",
    "\r\n",
    "hafiz = Leaderboard(\"Hafiz\")\r\n",
    "hafiz.name"
   ],
   "outputs": [
    {
     "output_type": "execute_result",
     "data": {
      "text/plain": [
       "'Hafiz'"
      ]
     },
     "metadata": {},
     "execution_count": 8
    }
   ],
   "metadata": {}
  },
  {
   "cell_type": "code",
   "execution_count": 13,
   "source": [
    "class Leaderboard:\r\n",
    "    def __init__(self, name):\r\n",
    "        self.name = name\r\n",
    "    def greet(self):\r\n",
    "        print(f\"Hello, {self.name}!\")\r\n",
    "\r\n",
    "hafiz = Leaderboard(\"Hafiz\")\r\n",
    "hafiz.greet()"
   ],
   "outputs": [
    {
     "output_type": "stream",
     "name": "stdout",
     "text": [
      "Hello, Hafiz!\n"
     ]
    }
   ],
   "metadata": {}
  }
 ],
 "metadata": {
  "orig_nbformat": 4,
  "language_info": {
   "name": "python",
   "version": "3.9.6",
   "mimetype": "text/x-python",
   "codemirror_mode": {
    "name": "ipython",
    "version": 3
   },
   "pygments_lexer": "ipython3",
   "nbconvert_exporter": "python",
   "file_extension": ".py"
  },
  "kernelspec": {
   "name": "python3",
   "display_name": "Python 3.9.6 64-bit"
  },
  "interpreter": {
   "hash": "cb0cb6c777688e88a3c9fd8c306e3190dc629f0c91b1a9c26c2f59992bd7bb87"
  }
 },
 "nbformat": 4,
 "nbformat_minor": 2
}