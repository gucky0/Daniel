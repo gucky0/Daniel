{
 "cells": [
  {
   "cell_type": "markdown",
   "source": [
    "my_favourite_number < 1"
   ],
   "metadata": {}
  },
  {
   "cell_type": "code",
   "execution_count": null,
   "source": [
    "my_dict = {\"weekdays\",\"Monday\"}\r\n",
    "my_dict"
   ],
   "outputs": [],
   "metadata": {}
  },
  {
   "cell_type": "markdown",
   "source": [
    "weekdays in my_dict"
   ],
   "metadata": {}
  },
  {
   "cell_type": "code",
   "execution_count": null,
   "source": [
    "# expected result: Monday\r\n",
    "\r\n",
    "my_dict(\"weekdays\")"
   ],
   "outputs": [],
   "metadata": {}
  },
  {
   "cell_type": "markdown",
   "source": [
    "# expected result: monday blues happen on Monday\r\n",
    "\r\n",
    "print(\"monday blues happen on\" + data)"
   ],
   "metadata": {}
  },
  {
   "cell_type": "markdown",
   "source": [
    "# expected result: my favourite number is 1\r\n",
    "\r\n",
    "print(\"my favourite number is\" + my_favourite_number)"
   ],
   "metadata": {}
  },
  {
   "cell_type": "code",
   "execution_count": null,
   "source": [
    "# expected result: saturday\r\n",
    "\r\n",
    "my_dict = {\"weekends\": (\"Saturday\", \"Sunday\")}\r\n",
    "\r\n",
    "my_dict[0]"
   ],
   "outputs": [],
   "metadata": {}
  },
  {
   "cell_type": "markdown",
   "source": [
    "person = {\r\n",
    "    'name' : 'Joe'\r\n",
    "    'age' : 32\r\n",
    "    'married' : False\r\n",
    "}\r\n"
   ],
   "metadata": {}
  },
  {
   "cell_type": "markdown",
   "source": [
    "def average(total, duration)\r\n",
    "    ''' calculates the average by doing a floor division operation'''\r\n",
    "    return total//duration"
   ],
   "metadata": {}
  },
  {
   "cell_type": "markdown",
   "source": [
    "total = 10\r\n",
    "time = 3\r\n",
    "\r\n",
    "average(total,duration)"
   ],
   "metadata": {}
  }
 ],
 "metadata": {
  "orig_nbformat": 4,
  "language_info": {
   "name": "python",
   "version": "3.9.6",
   "mimetype": "text/x-python",
   "codemirror_mode": {
    "name": "ipython",
    "version": 3
   },
   "pygments_lexer": "ipython3",
   "nbconvert_exporter": "python",
   "file_extension": ".py"
  },
  "kernelspec": {
   "name": "python3",
   "display_name": "Python 3.9.6 64-bit"
  },
  "interpreter": {
   "hash": "cb0cb6c777688e88a3c9fd8c306e3190dc629f0c91b1a9c26c2f59992bd7bb87"
  }
 },
 "nbformat": 4,
 "nbformat_minor": 2
}