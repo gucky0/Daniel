{
 "cells": [
  {
   "cell_type": "code",
   "execution_count": 6,
   "source": [
    "my_dict = {1: 'apple', 2: 'orange'}\r\n",
    "\r\n",
    "# Output: Jack\r\n",
    "for key in my_dict.keys():\r\n",
    "    print(my_dict[key])\r\n",
    "\r\n",
    "# Output: 26\r\n",
    "# print(my_dict.get(3))"
   ],
   "outputs": [
    {
     "output_type": "stream",
     "name": "stdout",
     "text": [
      "apple\n",
      "orange\n"
     ]
    }
   ],
   "metadata": {}
  },
  {
   "cell_type": "code",
   "execution_count": 5,
   "source": [
    "monthly_rain = {\"jan\": 164.4, \"feb\": 132.0}\r\n",
    "\r\n",
    "def add_rainfall(monthly_rain, month, rainfall):\r\n",
    "    if month in monthly_rain:\r\n",
    "        # current value + new value\r\n",
    "        monthly_rain[month] += rainfall\r\n",
    "    else:\r\n",
    "        monthly_rain[month] = rainfall\r\n",
    "\r\n",
    "add_rainfall(monthly_rain, \"jan\", 22.6)\r\n",
    "add_rainfall(monthly_rain, \"mar\", 100.0)\r\n",
    "\r\n",
    "monthly_rain"
   ],
   "outputs": [
    {
     "output_type": "stream",
     "name": "stdout",
     "text": [
      "1\n",
      "2\n"
     ]
    }
   ],
   "metadata": {}
  },
  {
   "cell_type": "code",
   "execution_count": null,
   "source": [
    "\r\n"
   ],
   "outputs": [],
   "metadata": {}
  }
 ],
 "metadata": {
  "orig_nbformat": 4,
  "language_info": {
   "name": "python",
   "version": "3.9.6",
   "mimetype": "text/x-python",
   "codemirror_mode": {
    "name": "ipython",
    "version": 3
   },
   "pygments_lexer": "ipython3",
   "nbconvert_exporter": "python",
   "file_extension": ".py"
  },
  "kernelspec": {
   "name": "python3",
   "display_name": "Python 3.9.6 64-bit"
  },
  "interpreter": {
   "hash": "cb0cb6c777688e88a3c9fd8c306e3190dc629f0c91b1a9c26c2f59992bd7bb87"
  }
 },
 "nbformat": 4,
 "nbformat_minor": 2
}