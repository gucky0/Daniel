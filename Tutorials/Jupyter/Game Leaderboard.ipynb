{
 "cells": [
  {
   "cell_type": "code",
   "execution_count": 1,
   "metadata": {},
   "outputs": [
    {
     "name": "stdout",
     "output_type": "stream",
     "text": [
      "pygame 2.0.1 (SDL 2.0.14, Python 3.9.6)\n",
      "Hello from the pygame community. https://www.pygame.org/contribute.html\n"
     ]
    }
   ],
   "source": [
    "# initialize\n",
    "import pygame, os\n",
    "from itertools import cycle\n",
    "import numpy as np\n",
    "\n",
    "\n",
    "# define constants\n",
    "dirname = os.getcwd()\n",
    "dirIcons = os.path.join(dirname, '..\\Resources\\\\')\n",
    "\n",
    "COLOR_BG    = (234, 212, 252)\n",
    "COLOR_BLACK = (0, 0, 0)\n",
    "COLOR_BLUE = (0, 0, 255)\n",
    "WHITE       = (255, 255, 255)\n",
    "ROWS = 4\n",
    "LEFT = 1\n",
    "SCREEN_WIDTH = SCREEN_HEIGHT = 600\n",
    "OBJ_SIZE = SCREEN_WIDTH // ROWS\n",
    "pygame.font.init()\n",
    "alternator = cycle(('x','o'))\n",
    "\n",
    "# test path name\n",
    "xPath = \"x_original.png\" \n",
    "xPath = \"x_original.png\" \n",
    "oPath = \"o_original.png\"\n",
    "def get_filename(fn):\n",
    "    while True:\n",
    "        if os.path.exists(f\"{dirIcons}{fn.strip('.png')}.png\"):\n",
    "            return f\"{fn.strip('.png')}.png\"\n",
    "        print(f\"{fn} does not exist, please try again\")\n",
    "        fn = f\"{input(f'{fn} does not exist, please try again')}.png\"\n",
    "xPath = get_filename(xPath)\n",
    "oPath = get_filename(oPath)"
   ]
  },
  {
   "cell_type": "code",
   "execution_count": 2,
   "metadata": {},
   "outputs": [
    {
     "data": {
      "text/plain": [
       "<__main__.Play at 0x1ee50d12e80>"
      ]
     },
     "execution_count": 2,
     "metadata": {},
     "output_type": "execute_result"
    }
   ],
   "source": [
    "class Play:\n",
    "    def __init__(self):\n",
    "        pygame.display.set_caption(\"Tic-Tac-Toe\")\n",
    "        self.game = np.full((ROWS,ROWS),None)\n",
    "        self.screen = pygame.display.set_mode((SCREEN_WIDTH, SCREEN_HEIGHT))\n",
    "        self.turn = 'x'\n",
    "        self.render()\n",
    "\n",
    "    def render(self):\n",
    "        self.screen.fill(COLOR_BG)\n",
    "        #code \n",
    "        \n",
    "        pygame.display.update()\n",
    "\n",
    "        while True:\n",
    "            for event in pygame.event.get():\n",
    "                if event.type == pygame.QUIT:\n",
    "                    pygame.quit()\n",
    "                    pygame.init()\n",
    "                    return \n",
    "\n",
    "Play()\n",
    "\n"
   ]
  },
  {
   "cell_type": "code",
   "execution_count": 5,
   "metadata": {},
   "outputs": [],
   "source": [
    "class Play:\n",
    "    def __init__(self):\n",
    "        pygame.display.set_caption(\"Tic-Tac-Toe\")\n",
    "        self.game = np.full((ROWS,ROWS),None)\n",
    "        self.screen = pygame.display.set_mode((SCREEN_WIDTH, SCREEN_HEIGHT))\n",
    "        self.turn = 'x'\n",
    "        self.render()\n",
    "\n",
    "    def render(self):\n",
    "        self.screen.fill(COLOR_BG)\n",
    "        self.draw()\n",
    "        pygame.display.update()\n",
    "\n",
    "        while True:\n",
    "            for event in pygame.event.get():\n",
    "                if event.type == pygame.QUIT:\n",
    "                    pygame.quit()\n",
    "                    pygame.init()\n",
    "                    return \n",
    "    def draw(self):\n",
    "        myRect = pygame.Rect(50, 30, 500, 50)\n",
    "        pygame.draw.rect(self.screen, \"red\", myRect)\n",
    "\n",
    "        myFont = pygame.font.SysFont('Calibri', 40)\n",
    "        screen_text = myFont.render(\"Leaderboard\", False, (0, 0, 0))\n",
    "        self.screen.blit(screen_text, (200,40))\n",
    "\n",
    "        grey = (128, 128, 128)\n",
    "        cyan = (0, 100, 100)\n",
    "        for i in range(10):\n",
    "            myRect = pygame.Rect(50, 80+50*i, 500, 50)\n",
    "            #grey for even\n",
    "            if i % 2 == 0:\n",
    "                color = grey\n",
    "            elif i % 2 == 1:\n",
    "                color = cyan\n",
    "            pygame.draw.rect(self.screen, color, myRect)\n",
    "\n",
    "\n",
    "Play()"
   ]
  },
  {
   "cell_type": "code",
   "execution_count": 2,
   "metadata": {},
   "outputs": [
    {
     "data": {
      "text/plain": [
       "<__main__.Play at 0x20119e84e80>"
      ]
     },
     "execution_count": 2,
     "metadata": {},
     "output_type": "execute_result"
    }
   ],
   "source": [
    "import pygame, os\n",
    "from itertools import cycle\n",
    "import numpy as np\n",
    "\n",
    "COLOR_BG    = (234, 212, 252)\n",
    "COLOR_BLACK = (0, 0, 0)\n",
    "COLOR_BLUE = (0, 0, 255)\n",
    "WHITE       = (255, 255, 255)\n",
    "ROWS = 3\n",
    "LEFT = 1\n",
    "SCREEN_WIDTH = SCREEN_HEIGHT = 600\n",
    "OBJ_SIZE = SCREEN_WIDTH // ROWS\n",
    "pygame.font.init()\n",
    "\n",
    "class Play:\n",
    "    def __init__(self):\n",
    "        pygame.display.set_caption(\"Tic-Tac-Toe\")\n",
    "        self.game = np.full((ROWS,ROWS),None)\n",
    "        self.screen = pygame.display.set_mode((SCREEN_WIDTH, SCREEN_HEIGHT))\n",
    "        self.turn = 'x'\n",
    "        self.render()\n",
    "\n",
    "    def render(self):\n",
    "        self.screen.fill(COLOR_BG)\n",
    "        self.draw()\n",
    "        pygame.display.update()\n",
    "\n",
    "        while True:\n",
    "            for event in pygame.event.get():\n",
    "                if event.type == pygame.QUIT:\n",
    "                    pygame.quit()\n",
    "                    pygame.init()\n",
    "                    return \n",
    "    def draw(self):\n",
    "        pass\n",
    "\n",
    "\n",
    "Play()"
   ]
  }
 ],
 "metadata": {
  "interpreter": {
   "hash": "cb0cb6c777688e88a3c9fd8c306e3190dc629f0c91b1a9c26c2f59992bd7bb87"
  },
  "kernelspec": {
   "display_name": "Python 3.9.6 64-bit",
   "name": "python3"
  },
  "language_info": {
   "codemirror_mode": {
    "name": "ipython",
    "version": 3
   },
   "file_extension": ".py",
   "mimetype": "text/x-python",
   "name": "python",
   "nbconvert_exporter": "python",
   "pygments_lexer": "ipython3",
   "version": "3.9.6"
  },
  "orig_nbformat": 4
 },
 "nbformat": 4,
 "nbformat_minor": 2
}
