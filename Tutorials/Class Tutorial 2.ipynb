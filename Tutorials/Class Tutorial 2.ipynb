{
 "cells": [
  {
   "cell_type": "code",
   "execution_count": null,
   "source": [
    "import pygame\r\n",
    "\r\n",
    "screenSize = screenX,screenY = 800,600\r\n",
    "playerPng = \"space-invaders_100.png\"\r\n",
    "# playerSizeX = playerSizeY = int(\"\".join([char for char in playerPng if char.isdigit()]))\r\n",
    "imgSize = imgX,imgY = 100,100\r\n",
    "\r\n",
    "pygame.init()\r\n",
    "screen = pygame.display.set_mode(screenSize)\r\n",
    "pygame.display.set_caption(\"Chess\")\r\n",
    "\r\n",
    "playerImg = pygame.image.load(playerPng)\r\n",
    "playerX, playerY = (screenX-imgX)/2, 3/4*screenY\r\n",
    "\r\n",
    "def player(x, y):\r\n",
    "    #draw player on screen\r\n",
    "    screen.blit(playerImg, (x, y))\r\n",
    "\r\n",
    "running = True\r\n",
    "while running:\r\n",
    "    screen.fill((255,255,255))\r\n",
    "\r\n",
    "    playerX+=0.1\r\n",
    "    player(playerX, playerY)\r\n",
    "    pygame.display.update()\r\n",
    "    \r\n",
    "    for event in pygame.event.get():\r\n",
    "        if event.type == pygame.QUIT:\r\n",
    "            pygame.quit()\r\n",
    "            running = False\r\n",
    "\r\n",
    "    "
   ],
   "outputs": [],
   "metadata": {}
  },
  {
   "cell_type": "code",
   "execution_count": 6,
   "source": [
    "from PIL import Image\r\n",
    "img = Image.open(\"space-invaders_2.png\")\r\n",
    "img = img.resize((100,100))\r\n",
    "img.save(\"space-invaders_100.png\")\r\n"
   ],
   "outputs": [],
   "metadata": {}
  }
 ],
 "metadata": {
  "orig_nbformat": 4,
  "language_info": {
   "name": "python",
   "version": "3.9.6",
   "mimetype": "text/x-python",
   "codemirror_mode": {
    "name": "ipython",
    "version": 3
   },
   "pygments_lexer": "ipython3",
   "nbconvert_exporter": "python",
   "file_extension": ".py"
  },
  "kernelspec": {
   "name": "python3",
   "display_name": "Python 3.9.6 64-bit"
  },
  "interpreter": {
   "hash": "cb0cb6c777688e88a3c9fd8c306e3190dc629f0c91b1a9c26c2f59992bd7bb87"
  }
 },
 "nbformat": 4,
 "nbformat_minor": 2
}