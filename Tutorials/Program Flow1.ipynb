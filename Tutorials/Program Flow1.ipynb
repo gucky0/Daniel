{
 "cells": [
  {
   "cell_type": "code",
   "execution_count": 3,
   "source": [
    "my_favourite_number < 1"
   ],
   "outputs": [
    {
     "output_type": "execute_result",
     "data": {
      "text/plain": [
       "False"
      ]
     },
     "metadata": {},
     "execution_count": 3
    }
   ],
   "metadata": {}
  },
  {
   "cell_type": "code",
   "execution_count": 2,
   "source": [
    "my_favourite_number=1"
   ],
   "outputs": [],
   "metadata": {}
  },
  {
   "cell_type": "code",
   "execution_count": 9,
   "source": [
    "my_dict = {\"weekdays\":\"Monday\"}\r\n",
    "my_dict"
   ],
   "outputs": [
    {
     "output_type": "execute_result",
     "data": {
      "text/plain": [
       "{'weekdays': 'Monday'}"
      ]
     },
     "metadata": {},
     "execution_count": 9
    }
   ],
   "metadata": {}
  },
  {
   "cell_type": "code",
   "execution_count": 23,
   "source": [
    "weekdays=['Monday','Tuesday', 'Wednesday', 'Thursday', 'Friday']\r\n",
    "longString = \"Monday,Tuesday,Wednesday,Thursday,Friday\"\r\n",
    "listString = longString.split(',')\r\n",
    "\r\n",
    "weekdays\r\n",
    "weekdays[0]\r\n",
    "\r\n",
    "my_dict[\"weekdays\"]\r\n",
    "\r\n",
    "\"weekdays\" in my_dict\r\n",
    "listString"
   ],
   "outputs": [
    {
     "output_type": "execute_result",
     "data": {
      "text/plain": [
       "['Monday', 'Tuesday', 'Wednesday', 'Thursday', 'Friday']"
      ]
     },
     "metadata": {},
     "execution_count": 23
    }
   ],
   "metadata": {}
  },
  {
   "cell_type": "code",
   "execution_count": 8,
   "source": [
    "\r\n",
    "my_dict = {\"weekdays\":\"Monday\"}\r\n",
    "\r\n",
    "'monday' in my_dict.values()\r\n",
    "\r\n",
    "#for caps abd decaps\r\n",
    "'monDAY'.lower() in my_dict[\"weekdays\"].lower()"
   ],
   "outputs": [
    {
     "output_type": "execute_result",
     "data": {
      "text/plain": [
       "False"
      ]
     },
     "metadata": {},
     "execution_count": 8
    }
   ],
   "metadata": {}
  },
  {
   "cell_type": "code",
   "execution_count": 27,
   "source": [
    "# expected result: Monday\r\n",
    "\r\n",
    "data = my_dict[\"weekdays\"]\r\n",
    "data"
   ],
   "outputs": [
    {
     "output_type": "execute_result",
     "data": {
      "text/plain": [
       "'Monday'"
      ]
     },
     "metadata": {},
     "execution_count": 27
    }
   ],
   "metadata": {}
  },
  {
   "cell_type": "code",
   "execution_count": 42,
   "source": [
    "# expected result: monday blues happen on Monday\r\n",
    "\r\n",
    "print(\"monday blues happen on\" , data)"
   ],
   "outputs": [
    {
     "output_type": "stream",
     "name": "stdout",
     "text": [
      "monday blues happen on Monday\n"
     ]
    }
   ],
   "metadata": {}
  },
  {
   "cell_type": "code",
   "execution_count": 47,
   "source": [
    "# expected result: my favourite number is 1\r\n",
    "my_favourite_number=1\r\n",
    "\r\n",
    "\"my favourite number is\"+ ' '+ str(my_favourite_number)"
   ],
   "outputs": [
    {
     "output_type": "execute_result",
     "data": {
      "text/plain": [
       "'my favourite number is 1'"
      ]
     },
     "metadata": {},
     "execution_count": 47
    }
   ],
   "metadata": {}
  },
  {
   "cell_type": "code",
   "execution_count": 64,
   "source": [
    "# expected result: saturday\r\n",
    "\r\n",
    "my_dict = {\"weekends\": (\"Saturday\", \"Sunday\")}\r\n",
    "for day in my_dict:\r\n",
    "    print(my_dict[\"weekends\"][0])\r\n",
    "    \r\n"
   ],
   "outputs": [
    {
     "output_type": "stream",
     "name": "stdout",
     "text": [
      "Saturday\n"
     ]
    }
   ],
   "metadata": {}
  },
  {
   "cell_type": "code",
   "execution_count": 75,
   "source": [
    "person = {\r\n",
    "    'name' : 'Joe',\r\n",
    "    'age' : 32,\r\n",
    "    'married' : False\r\n",
    "}\r\n"
   ],
   "outputs": [],
   "metadata": {}
  },
  {
   "cell_type": "code",
   "execution_count": 71,
   "source": [
    "def average(total, duration):\r\n",
    "    ''' calculates the average by doing a floor division operation'''\r\n",
    "    return total//duration"
   ],
   "outputs": [],
   "metadata": {}
  },
  {
   "cell_type": "code",
   "execution_count": 73,
   "source": [
    "total = 10\r\n",
    "time = 3\r\n",
    "\r\n",
    "average(total,time)"
   ],
   "outputs": [
    {
     "output_type": "execute_result",
     "data": {
      "text/plain": [
       "3"
      ]
     },
     "metadata": {},
     "execution_count": 73
    }
   ],
   "metadata": {}
  },
  {
   "cell_type": "code",
   "execution_count": 74,
   "source": [
    "average?"
   ],
   "outputs": [
    {
     "output_type": "stream",
     "name": "stdout",
     "text": [
      "\u001b[1;31mSignature:\u001b[0m \u001b[0maverage\u001b[0m\u001b[1;33m(\u001b[0m\u001b[0mtotal\u001b[0m\u001b[1;33m,\u001b[0m \u001b[0mduration\u001b[0m\u001b[1;33m)\u001b[0m\u001b[1;33m\u001b[0m\u001b[1;33m\u001b[0m\u001b[0m\n",
      "\u001b[1;31mDocstring:\u001b[0m calculates the average by doing a floor division operation\n",
      "\u001b[1;31mFile:\u001b[0m      c:\\users\\hariiz\\appdata\\local\\temp\\ipykernel_22404\\193881826.py\n",
      "\u001b[1;31mType:\u001b[0m      function\n"
     ]
    }
   ],
   "metadata": {}
  }
 ],
 "metadata": {
  "orig_nbformat": 4,
  "language_info": {
   "name": "python",
   "version": "3.9.6",
   "mimetype": "text/x-python",
   "codemirror_mode": {
    "name": "ipython",
    "version": 3
   },
   "pygments_lexer": "ipython3",
   "nbconvert_exporter": "python",
   "file_extension": ".py"
  },
  "kernelspec": {
   "name": "python3",
   "display_name": "Python 3.9.6 64-bit"
  },
  "interpreter": {
   "hash": "cb0cb6c777688e88a3c9fd8c306e3190dc629f0c91b1a9c26c2f59992bd7bb87"
  }
 },
 "nbformat": 4,
 "nbformat_minor": 2
}