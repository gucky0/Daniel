{
 "cells": [
  {
   "cell_type": "code",
   "execution_count": 2,
   "metadata": {},
   "outputs": [
    {
     "name": "stdout",
     "output_type": "stream",
     "text": [
      "pygame 2.0.1 (SDL 2.0.14, Python 3.9.6)\n",
      "Hello from the pygame community. https://www.pygame.org/contribute.html\n"
     ]
    }
   ],
   "source": [
    "# initialize\n",
    "import pygame\n",
    "import os\n",
    "from itertools import cycle\n",
    "import numpy as np\n",
    "\n",
    "\n",
    "# define constants\n",
    "dirname = os.getcwd()\n",
    "dirIcons = os.path.join(dirname, '..\\Resources\\\\')\n",
    "\n",
    "COLOR_BG = (234, 212, 252)\n",
    "COLOR_BLACK = (0, 0, 0)\n",
    "COLOR_BLUE = (0, 0, 255)\n",
    "WHITE = (255, 255, 255)\n",
    "ROWS = 4\n",
    "LEFT = 1\n",
    "SCREEN_WIDTH = SCREEN_HEIGHT = 600\n",
    "OBJ_SIZE = SCREEN_WIDTH // ROWS\n",
    "pygame.font.init()\n",
    "alternator = cycle(('x', 'o'))\n",
    "\n",
    "# test path name\n",
    "xPath = \"x_original.png\"\n",
    "xPath = \"x_original.png\"\n",
    "oPath = \"o_original.png\"\n",
    "\n",
    "\n",
    "def get_filename(fn):\n",
    "    while True:\n",
    "        if os.path.exists(f\"{dirIcons}{fn.strip('.png')}.png\"):\n",
    "            return f\"{fn.strip('.png')}.png\"\n",
    "        print(f\"{fn} does not exist, please try again\")\n",
    "        fn = f\"{input(f'{fn} does not exist, please try again')}.png\"\n",
    "\n",
    "\n",
    "xPath = get_filename(xPath)\n",
    "oPath = get_filename(oPath)\n"
   ]
  },
  {
   "cell_type": "code",
   "execution_count": 39,
   "metadata": {},
   "outputs": [
    {
     "data": {
      "text/plain": [
       "<__main__.Play at 0x1aeaa6f0ee0>"
      ]
     },
     "execution_count": 39,
     "metadata": {},
     "output_type": "execute_result"
    }
   ],
   "source": [
    "from itertools import cycle\n",
    "import pygame\n",
    "import os\n",
    "\n",
    "\n",
    "class Play:\n",
    "    def __init__(self):\n",
    "        pygame.display.set_caption(\"Calculator\")\n",
    "        self.game = np.full((ROWS, ROWS), None)\n",
    "        self.screen = pygame.display.set_mode((SCREEN_WIDTH, SCREEN_HEIGHT))\n",
    "        self.myFont = pygame.font.SysFont('Times New Roman', 72)\n",
    "        self.render()\n",
    "\n",
    "    def render(self):\n",
    "        self.screen.fill(COLOR_BG)\n",
    "        self.draw()\n",
    "        while True:\n",
    "            pygame.display.update()\n",
    "            for event in pygame.event.get():\n",
    "                if event.type == pygame.QUIT:\n",
    "                    pygame.quit()\n",
    "                    pygame.init()\n",
    "                    return\n",
    "                if event.type == pygame.MOUSEBUTTONDOWN and event.button == 1:\n",
    "                    mouseX, mouseY = pygame.mouse.get_pos()\n",
    "                    print(pygame.mouse.get_pos(), end=\" \")\n",
    "\n",
    "                    if (250 <= mouseX <= 350) and (250 <= mouseY <= 350):\n",
    "                        print(math.cos(math.pi))\n",
    "                        self.screen.fill(COLOR_BG)\n",
    "                        self.draw()\n",
    "                        self.result()\n",
    "\n",
    "                    if (100 <= mouseX <= 200) and (400 <= mouseY <= 500):\n",
    "                        print(\"you pressed option 1 !\")\n",
    "                        self.number = 0\n",
    "                        self.screen.fill(COLOR_BG)\n",
    "                        self.draw()\n",
    "                        self.result2()\n",
    "\n",
    "                    if (250 <= mouseX <= 350) and (400 <= mouseY <= 500):\n",
    "                        print(\"you pressed option 2 !\")\n",
    "                        self.number = math.pi * 2\n",
    "                        self.screen.fill(COLOR_BG)\n",
    "                        self.draw()\n",
    "                        self.result2()\n",
    "\n",
    "    def draw(self):\n",
    "        digits = \"0123456789\"\n",
    "        digit_text = self.myFont.render(\"π\", True, (0, 0, 0))\n",
    "        self.screen.blit(digit_text, (0, 560))\n",
    "\n",
    "        digit_text = self.myFont.render(\"1\", True, (0, 0, 0))\n",
    "        self.screen.blit(digit_text, (0, 520))\n",
    "\n",
    "        square_coord = [(300,300), (150,450), (300,450)]\n",
    "\n",
    "        box_size = 100\n",
    "        # draw all the boxes -> visual\n",
    "        for x,y in square_coord:\n",
    "            pygame.draw.rect(self.screen, (255, 255, 255), pygame.Rect(x - box_size/2, y - box_size/2, box_size, box_size))\n",
    "\n",
    "    def result(self):\n",
    "        res = str(math.cos(math.pi))\n",
    "        digit_text = self.myFont.render(res, True, (0, 0, 0))\n",
    "        self.screen.blit(digit_text, (300, 300))\n",
    "\n",
    "    def result2(self):\n",
    "        res = str(math.cos(self.number))\n",
    "        digit_text = self.myFont.render(res, True, (0, 0, 0))\n",
    "        self.screen.blit(digit_text, (300, 300))\n",
    "\n",
    "\n",
    "Play()\n",
    "\n",
    "# hardcode all sections and layout\n",
    "# remove gap feature\n",
    "# operators section\n",
    "# negative section\n",
    "# previous section\n",
    "# clear section\n",
    "# backspace section\n",
    "# pi section\n",
    "# trigo section\n",
    "# exp log ln sections\n",
    "# 16 digits limit\n",
    "# digit display align right shift left\n",
    "# undo\n",
    "# backspace\n",
    "# simple, compound, cash flow, net present value, rate of returns (interest)\n"
   ]
  },
  {
   "cell_type": "code",
   "execution_count": 1,
   "metadata": {},
   "outputs": [
    {
     "data": {
      "text/plain": [
       "0.49999999999999994"
      ]
     },
     "execution_count": 1,
     "metadata": {},
     "output_type": "execute_result"
    }
   ],
   "source": [
    "import math\n",
    "\n",
    "angle_in_degrees = 180\n",
    "\n",
    "radian_angle = math.radians(angle_in_degrees)\n",
    "\n",
    "#in radians\n",
    "a = math.pi / 6\n",
    "\n",
    "math.sin(a)"
   ]
  },
  {
   "cell_type": "code",
   "execution_count": 37,
   "metadata": {},
   "outputs": [
    {
     "name": "stdout",
     "output_type": "stream",
     "text": [
      "300 and 300\n",
      "150 and 450\n",
      "300 and 450\n"
     ]
    }
   ],
   "source": [
    "square_coord = [(300,300), (150,450), (300,450)]\n",
    "\n",
    "for x,y in square_coord:\n",
    "    print(f\"{x} and {y}\")\n",
    "\n",
    "#looping np dataframes dict list comprehension"
   ]
  },
  {
   "cell_type": "code",
   "execution_count": null,
   "metadata": {},
   "outputs": [],
   "source": []
  }
 ],
 "metadata": {
  "interpreter": {
   "hash": "cb0cb6c777688e88a3c9fd8c306e3190dc629f0c91b1a9c26c2f59992bd7bb87"
  },
  "kernelspec": {
   "display_name": "Python 3.9.6 64-bit",
   "name": "python3"
  },
  "language_info": {
   "codemirror_mode": {
    "name": "ipython",
    "version": 3
   },
   "file_extension": ".py",
   "mimetype": "text/x-python",
   "name": "python",
   "nbconvert_exporter": "python",
   "pygments_lexer": "ipython3",
   "version": "3.9.6"
  },
  "orig_nbformat": 4
 },
 "nbformat": 4,
 "nbformat_minor": 2
}
