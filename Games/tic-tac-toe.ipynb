{
 "cells": [
  {
   "cell_type": "code",
   "execution_count": 39,
   "source": [
    "def drawGrid():\r\n",
    "    for x in range(0, SCREEN_WIDTH, OBJ_SIZE):\r\n",
    "        for y in range(0, SCREEN_HEIGHT, OBJ_SIZE):\r\n",
    "            rect = pygame.Rect(x, y, OBJ_SIZE, OBJ_SIZE)\r\n",
    "            pygame.draw.rect(screen, COLOR_BLACK, rect, 1)\r\n",
    "\r\n",
    "def pic(turn):\r\n",
    "    image = Image.open(os.path.join(dirIcons,f'{turn}_original.png'))\r\n",
    "    if image.size != (OBJ_SIZE,OBJ_SIZE):\r\n",
    "        image = image.resize((OBJ_SIZE,OBJ_SIZE),Image.ANTIALIAS)\r\n",
    "    filename = os.path.join(dirIcons,f'{turn}.png')\r\n",
    "    image.save(fp=filename)\r\n",
    "    return pygame.image.load(filename)\r\n",
    "\r\n",
    "# initialize\r\n",
    "import pygame, os\r\n",
    "from PIL import Image\r\n",
    "from itertools import cycle\r\n",
    "\r\n",
    "pygame.init()\r\n",
    "pygame.display.set_caption(\"Tic-Tac-Toe\")\r\n",
    "    \r\n",
    "# define constants\r\n",
    "dirname = os.getcwd()\r\n",
    "dirIcons = os.path.join(dirname, '..\\Resources\\\\')\r\n",
    "\r\n",
    "COLOR_BG = (234, 212, 252)\r\n",
    "COLOR_BLACK = (0, 0, 0)\r\n",
    "SCREEN_WIDTH = SCREEN_HEIGHT = 600\r\n",
    "OBJ_SIZE = SCREEN_WIDTH//3\r\n",
    "LEFT = 1\r\n",
    "# COLOR_WHITE = (200, 200, 200)\r\n",
    "\r\n",
    "alternator = cycle(('x','o'))\r\n",
    "\r\n",
    "def main():\r\n",
    "    global screen\r\n",
    "    moves = []\r\n",
    "    while True:\r\n",
    "        screen = pygame.display.set_mode((SCREEN_WIDTH, SCREEN_HEIGHT))\r\n",
    "        for event in pygame.event.get():\r\n",
    "            if event.type == pygame.QUIT:\r\n",
    "                pygame.quit()\r\n",
    "                return\r\n",
    "            if event.type == pygame.MOUSEBUTTONDOWN and event.button == LEFT:\r\n",
    "                position = event.pos[0]//OBJ_SIZE*OBJ_SIZE,event.pos[1]//OBJ_SIZE*OBJ_SIZE\r\n",
    "                if not [tup for _,tup in moves if position == tup]:\r\n",
    "                    player = pic(next(alternator))\r\n",
    "                    moves.append((player,position))\r\n",
    "\r\n",
    "        screen.fill(COLOR_BG)\r\n",
    "        drawGrid()\r\n",
    "        for player,place in moves:\r\n",
    "            screen.blit(player,place)\r\n",
    "\r\n",
    "        pygame.display.update()\r\n",
    "main()\r\n",
    "\r\n"
   ],
   "outputs": [],
   "metadata": {}
  },
  {
   "cell_type": "markdown",
   "source": [
    "__file__"
   ],
   "metadata": {}
  }
 ],
 "metadata": {
  "orig_nbformat": 4,
  "language_info": {
   "name": "python",
   "version": "3.9.6",
   "mimetype": "text/x-python",
   "codemirror_mode": {
    "name": "ipython",
    "version": 3
   },
   "pygments_lexer": "ipython3",
   "nbconvert_exporter": "python",
   "file_extension": ".py"
  },
  "kernelspec": {
   "name": "python3",
   "display_name": "Python 3.9.6 64-bit"
  },
  "interpreter": {
   "hash": "cb0cb6c777688e88a3c9fd8c306e3190dc629f0c91b1a9c26c2f59992bd7bb87"
  }
 },
 "nbformat": 4,
 "nbformat_minor": 2
}