{
 "cells": [
  {
   "cell_type": "code",
   "execution_count": 34,
   "source": [
    "import pygame,os, random\r\n",
    "\r\n",
    "screenSize = screenX,screenY = 800,600\r\n",
    "\r\n",
    "dirname = os.getcwd()\r\n",
    "imgSize = imgX,imgY = 100,100\r\n",
    "\r\n",
    "# class CreateCharacter():\r\n",
    "#     def __init__(seld):\r\n",
    "#         self.image = os\r\n",
    "\r\n",
    "playerPng = os.path.join(dirname, '..\\Resources\\\\','space-invaders_100.png')\r\n",
    "playerSize = int(playerPng[-7:-4])\r\n",
    "playerX = (screenX-imgX) / 2\r\n",
    "playerY = 3/4 * screenY\r\n",
    "player_changeX = 0\r\n",
    "\r\n",
    "enemyPng = os.path.join(dirname, '..\\Resources\\\\','ghost_100.png')\r\n",
    "enemySize = int(enemyPng[-7:-4])\r\n",
    "enemyImg = pygame.image.load(enemyPng)\r\n",
    "enemyX = random.randint(0, 800)\r\n",
    "enemyY = random.randint(50, 150)\r\n",
    "enemy_changeX = 0.3\r\n",
    "enemy_changeY = enemySize/2\r\n",
    "\r\n",
    "pygame.init()\r\n",
    "screen = pygame.display.set_mode(screenSize)\r\n",
    "pygame.display.set_caption(\"Chess\")\r\n",
    "\r\n",
    "playerImg = pygame.image.load(playerPng)\r\n",
    "\r\n",
    "\r\n",
    "def player(x, y):\r\n",
    "    #draw player on screen\r\n",
    "    screen.blit(playerImg, (x, y))\r\n",
    "\r\n",
    "def enemy(x,y):\r\n",
    "    screen.blit(enemyImg, (x, y))\r\n",
    "\r\n",
    "running = True\r\n",
    "while running:\r\n",
    "    screen.fill((255,255,255))\r\n",
    "\r\n",
    "    playerX += player_changeX\r\n",
    "    if playerX <= 0:\r\n",
    "        playerX = 0 \r\n",
    "    elif playerX >= screenX - imgX:\r\n",
    "        playerX = screenX - imgX\r\n",
    "    \r\n",
    "    enemyX += enemy_changeX\r\n",
    "    if enemyX <= 0:\r\n",
    "        enemy_changeX = 0.3\r\n",
    "        enemyY += enemy_changeY\r\n",
    "    elif enemyX >= screenX - imgX:\r\n",
    "        enemy_changeX = -0.3\r\n",
    "        enemyY += enemy_changeY\r\n",
    "    \r\n",
    "\r\n",
    "    player(playerX, playerY)\r\n",
    "    enemy(enemyX, enemyY)\r\n",
    "    pygame.display.update()\r\n",
    "    \r\n",
    "    for event in pygame.event.get():\r\n",
    "        if event.type == pygame.QUIT:\r\n",
    "            pygame.quit()\r\n",
    "            running = False\r\n",
    "        if event.type == pygame.KEYDOWN:\r\n",
    "            if event.key == pygame.K_LEFT:\r\n",
    "                player_changeX = -0.3\r\n",
    "            if event.key == pygame.K_RIGHT:\r\n",
    "                player_changeX =  0.3\r\n",
    "        if event.type == pygame.KEYUP:\r\n",
    "            if event.key == pygame.K_LEFT or event.key == pygame.K_RIGHT:\r\n",
    "                player_changeX = 0\r\n",
    "\r\n",
    "\r\n",
    "\r\n",
    "    "
   ],
   "outputs": [],
   "metadata": {}
  },
  {
   "cell_type": "markdown",
   "source": [
    "__file__"
   ],
   "metadata": {}
  },
  {
   "cell_type": "code",
   "execution_count": 6,
   "source": [
    "from PIL import Image\r\n",
    "img = Image.open(\"space-invaders_2.png\")\r\n",
    "img = img.resize((100,100))\r\n",
    "img.save(\"space-invaders_100.png\")\r\n"
   ],
   "outputs": [],
   "metadata": {}
  }
 ],
 "metadata": {
  "orig_nbformat": 4,
  "language_info": {
   "name": "python",
   "version": "3.9.6",
   "mimetype": "text/x-python",
   "codemirror_mode": {
    "name": "ipython",
    "version": 3
   },
   "pygments_lexer": "ipython3",
   "nbconvert_exporter": "python",
   "file_extension": ".py"
  },
  "kernelspec": {
   "name": "python3",
   "display_name": "Python 3.9.6 64-bit"
  },
  "interpreter": {
   "hash": "cb0cb6c777688e88a3c9fd8c306e3190dc629f0c91b1a9c26c2f59992bd7bb87"
  }
 },
 "nbformat": 4,
 "nbformat_minor": 2
}